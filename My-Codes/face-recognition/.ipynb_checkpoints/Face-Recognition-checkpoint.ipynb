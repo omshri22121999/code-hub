{
 "cells": [
  {
   "cell_type": "code",
   "execution_count": 1,
   "metadata": {},
   "outputs": [],
   "source": [
    "import cv2\n",
    "import numpy as np\n",
    "import random\n",
    "from scipy.linalg import eigh\n",
    "from scipy.spatial import distance\n",
    "import os\n",
    "import pandas as pd\n",
    "import matplotlib.pyplot as plt\n",
    "import matplotlib.image as mpimg\n",
    "from collections import Counter\n",
    "%matplotlib qt"
   ]
  },
  {
   "cell_type": "markdown",
   "metadata": {},
   "source": [
    "\n",
    "# FUNCTIONS"
   ]
  },
  {
   "cell_type": "code",
   "execution_count": 2,
   "metadata": {},
   "outputs": [],
   "source": [
    "def read_img(path):\n",
    "    directory = os.path.abspath(path)\n",
    "    img_names = np.array(os.listdir(directory))\n",
    "    M = len(img_names)\n",
    "    X, Y = 100, 100\n",
    "\n",
    "    images = np.zeros((X*Y,M))\n",
    "\n",
    "    for i,img in zip(range(M),img_names):\n",
    "        temp = mpimg.imread(path + img)\n",
    "        temp = cv2.resize(temp,(X,Y),cv2.INTER_AREA)\n",
    "        if len(temp.shape) > 2:\n",
    "            temp = np.dot(temp[...,:3], [0.299, 0.587, 0.144])   \n",
    "        images[:,i] = temp.flatten()\n",
    "\n",
    "    return images, img_names\n",
    "\n",
    "def face_rec(images,k):\n",
    "    N = images.shape[0]\n",
    "    M = images.shape[1]\n",
    "    A = np.zeros((N,M))\n",
    "    \n",
    "    mean_face = np.sum(images,axis=1)/M\n",
    "    \n",
    "    for i in range(M):\n",
    "        A[:,i] = images[:,i] - mean_face\n",
    "    \n",
    "    lam, v = np.linalg.eig(np.cov(train.T))\n",
    "    idx = np.argsort(lam)\n",
    "    idx = idx[len(idx) - k:len(idx)]\n",
    "    v = v[:,idx]\n",
    "    \n",
    "    u = A @ v\n",
    "    \n",
    "    return A, u, mean_face\n",
    "\n",
    "def weights(A,u):\n",
    "    if len(A.shape) > 1:\n",
    "        N = A.shape[0]\n",
    "        train_len = A.shape[1]\n",
    "        w, proj = np.zeros((k,train_len)), np.zeros((N,train_len))\n",
    "        for i in range(train_len):\n",
    "            w[:,i] = u.T @ A[:,i] \n",
    "            proj[:,i] = (u @ w[:,i])\n",
    "        \n",
    "        return w, proj\n",
    "    \n",
    "    else:\n",
    "        w = u.T @ A \n",
    "        proj = (u @ w)\n",
    "        return w, proj"
   ]
  },
  {
   "cell_type": "markdown",
   "metadata": {},
   "source": [
    "## Detection"
   ]
  },
  {
   "cell_type": "code",
   "execution_count": 3,
   "metadata": {},
   "outputs": [
    {
     "ename": "FileNotFoundError",
     "evalue": "[Errno 2] No such file or directory: '/home/karthick/PRML/Face-Detection/wash/Detected'",
     "output_type": "error",
     "traceback": [
      "\u001b[0;31m---------------------------------------------------------------------------\u001b[0m",
      "\u001b[0;31mFileNotFoundError\u001b[0m                         Traceback (most recent call last)",
      "\u001b[0;32m<ipython-input-3-d55b94e3123b>\u001b[0m in \u001b[0;36m<module>\u001b[0;34m\u001b[0m\n\u001b[1;32m      1\u001b[0m \u001b[0mpath\u001b[0m \u001b[0;34m=\u001b[0m \u001b[0;34m'/home/karthick/PRML/Face-Detection/wash/Detected/'\u001b[0m\u001b[0;34m\u001b[0m\u001b[0;34m\u001b[0m\u001b[0m\n\u001b[1;32m      2\u001b[0m \u001b[0mdirectory\u001b[0m \u001b[0;34m=\u001b[0m \u001b[0mos\u001b[0m\u001b[0;34m.\u001b[0m\u001b[0mpath\u001b[0m\u001b[0;34m.\u001b[0m\u001b[0mabspath\u001b[0m\u001b[0;34m(\u001b[0m\u001b[0mpath\u001b[0m\u001b[0;34m)\u001b[0m\u001b[0;34m\u001b[0m\u001b[0;34m\u001b[0m\u001b[0m\n\u001b[0;32m----> 3\u001b[0;31m \u001b[0mimg_names\u001b[0m \u001b[0;34m=\u001b[0m \u001b[0mnp\u001b[0m\u001b[0;34m.\u001b[0m\u001b[0marray\u001b[0m\u001b[0;34m(\u001b[0m\u001b[0mos\u001b[0m\u001b[0;34m.\u001b[0m\u001b[0mlistdir\u001b[0m\u001b[0;34m(\u001b[0m\u001b[0mdirectory\u001b[0m\u001b[0;34m)\u001b[0m\u001b[0;34m)\u001b[0m\u001b[0;34m\u001b[0m\u001b[0;34m\u001b[0m\u001b[0m\n\u001b[0m\u001b[1;32m      4\u001b[0m \u001b[0mM\u001b[0m \u001b[0;34m=\u001b[0m \u001b[0mlen\u001b[0m\u001b[0;34m(\u001b[0m\u001b[0mimg_names\u001b[0m\u001b[0;34m)\u001b[0m\u001b[0;34m\u001b[0m\u001b[0;34m\u001b[0m\u001b[0m\n\u001b[1;32m      5\u001b[0m \u001b[0;34m\u001b[0m\u001b[0m\n",
      "\u001b[0;31mFileNotFoundError\u001b[0m: [Errno 2] No such file or directory: '/home/karthick/PRML/Face-Detection/wash/Detected'"
     ]
    }
   ],
   "source": [
    "path = '/home/karthick/PRML/Face-Detection/wash/Detected/'\n",
    "directory = os.path.abspath(path) \n",
    "img_names = np.array(os.listdir(directory))\n",
    "M = len(img_names)\n",
    "\n",
    "\n",
    "cascPath = \"haarcascade_frontalface_default.xml\"\n",
    "faceCascade = cv2.CascadeClassifier(cascPath)\n",
    "\n",
    "figure_size = 9\n",
    "\n",
    "for i,img in zip(range(M),img_names):\n",
    "    im = mpimg.imread(path + img)\n",
    "\n",
    "    faces = faceCascade.detectMultiScale(im, scaleFactor=1.2, minNeighbors=5)\n",
    "    \n",
    "    for (x, y, w, h) in faces: \n",
    "        roi_color = im[y:y + h, x:x + w]\n",
    "        cv2.imwrite('/home/karthick/PRML/Face-Detection/wash/test/' + img, roi_color)"
   ]
  },
  {
   "cell_type": "markdown",
   "metadata": {},
   "source": [
    "# Main"
   ]
  },
  {
   "cell_type": "code",
   "execution_count": 21,
   "metadata": {},
   "outputs": [
    {
     "name": "stdout",
     "output_type": "stream",
     "text": [
      "4.166666666666666\n"
     ]
    }
   ],
   "source": [
    "path1 = '/home/karthick/PRML/Face-Detection/wash/train/'\n",
    "path2 = '/home/karthick/PRML/Face-Detection/wash/Test/'\n",
    "\n",
    "train, train_names = read_img(path1)\n",
    "test, test_names = read_img(path2)\n",
    "\n",
    "k = 15 # No. of principal components\n",
    "\n",
    "A, u, mean_face = face_rec(train,k)\n",
    "\n",
    "correct = 0\n",
    "for i in range(len(test_names)):\n",
    "    test_img = test[:,i]\n",
    "    test_mean = test_img - mean_face\n",
    "\n",
    "    train_w, train_eig = weights(A,u)\n",
    "    test_w, test_eig = weights(test_mean,u)\n",
    "\n",
    "    err = np.zeros((train_w.shape[1]))\n",
    "    for j in range(train_w.shape[1]):\n",
    "        err[j] = distance.euclidean(train_w[:,j],test_w)\n",
    "    \n",
    "    true = test_names[i][0:2]\n",
    "    pred = train_names[np.where(err == min(err))[0][0]][0:2]\n",
    "    \n",
    "    if pred == true:\n",
    "        correct = correct + 1 \n",
    "        \n",
    "    #print(true, pred)\n",
    "    \n",
    "print((correct/len(test_names)) * 100)"
   ]
  }
 ],
 "metadata": {
  "kernelspec": {
   "display_name": "Python 3",
   "language": "python",
   "name": "python3"
  },
  "language_info": {
   "codemirror_mode": {
    "name": "ipython",
    "version": 3
   },
   "file_extension": ".py",
   "mimetype": "text/x-python",
   "name": "python",
   "nbconvert_exporter": "python",
   "pygments_lexer": "ipython3",
   "version": "3.6.9"
  }
 },
 "nbformat": 4,
 "nbformat_minor": 4
}
